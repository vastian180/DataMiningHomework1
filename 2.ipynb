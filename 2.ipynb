{
 "cells": [
  {
   "cell_type": "code",
   "execution_count": 1,
   "metadata": {},
   "outputs": [
    {
     "name": "stdout",
     "output_type": "stream",
     "text": [
      "['records-for-2011.csv', 'records-for-2012.csv', 'records-for-2013.csv', 'records-for-2014.csv', 'records-for-2015.csv', 'records-for-2016.csv', 'socrata_metadata_records-for-2011.json', 'socrata_metadata_records-for-2012.json', 'socrata_metadata_records-for-2013.json', 'socrata_metadata_records-for-2014.json', 'socrata_metadata_records-for-2015.json', 'socrata_metadata_records-for-2016.json']\n"
     ]
    }
   ],
   "source": [
    "import pandas as pd\n",
    "import os\n",
    "data_path = \"records\"\n",
    "data_name = os.listdir(data_path)\n",
    "print(data_name)"
   ]
  },
  {
   "cell_type": "markdown",
   "metadata": {},
   "source": [
    "# 数据集：Oakland Crime Statistics 2011 to 2016\n",
    "\n",
    "# 1 数据可视化和摘要\n",
    "\n",
    "## 数据清洗"
   ]
  },
  {
   "cell_type": "code",
   "execution_count": 2,
   "metadata": {},
   "outputs": [
    {
     "name": "stdout",
     "output_type": "stream",
     "text": [
      "['records\\\\records-for-2011.csv', 'records\\\\records-for-2012.csv', 'records\\\\records-for-2013.csv', 'records\\\\records-for-2014.csv', 'records\\\\records-for-2015.csv', 'records\\\\records-for-2016.csv', 'records\\\\socrata_metadata_records-for-2011.json', 'records\\\\socrata_metadata_records-for-2012.json', 'records\\\\socrata_metadata_records-for-2013.json', 'records\\\\socrata_metadata_records-for-2014.json', 'records\\\\socrata_metadata_records-for-2015.json', 'records\\\\socrata_metadata_records-for-2016.json']\n"
     ]
    }
   ],
   "source": [
    "data_fullname=[os.path.join(data_path,data) for data in data_name] # 将路径与文件名拼接，形成完整的文件名称\n",
    "print(data_fullname)"
   ]
  },
  {
   "cell_type": "code",
   "execution_count": 3,
   "metadata": {},
   "outputs": [
    {
     "name": "stdout",
     "output_type": "stream",
     "text": [
      "0    Index(['Agency', 'Create Time', 'Location', 'Area Id', 'Beat', 'Priority',\n",
      "       'Incident Type Id', 'Incident Type Description', 'Event Number',\n",
      "       'Closed Time'],\n",
      "      dtype='object')\n",
      "1    Index(['Agency', 'Create Time', 'Area Id', 'Beat', 'Priority',\n",
      "       'Incident Type Id', 'Incident Type Description', 'Event Number',\n",
      "       'Closed Time', 'Location 1'],\n",
      "      dtype='object')\n",
      "2    Index(['Agency', 'Create Time', 'Location ', 'Area Id', 'Beat', 'Priority',\n",
      "       'Incident Type Id', 'Incident Type Description', 'Event Number',\n",
      "       'Closed Time'],\n",
      "      dtype='object')\n",
      "3    Index(['Agency', 'Create Time', 'Area Id', 'Beat', 'Priority',\n",
      "       'Incident Type Id', 'Incident Type Description', 'Event Number',\n",
      "       'Closed Time', 'Location 1'],\n",
      "      dtype='object')\n",
      "4    Index(['Agency', 'Create Time', 'Location', 'Area Id', 'Beat', 'Priority',\n",
      "       'Incident Type Id', 'Incident Type Description', 'Event Number',\n",
      "       'Closed Time'],\n",
      "      dtype='object')\n",
      "5    Index(['Agency', 'Create Time', 'Location', 'Area Id', 'Beat', 'Priority',\n",
      "       'Incident Type Id', 'Incident Type Description', 'Event Number',\n",
      "       'Closed Time'],\n",
      "      dtype='object')\n"
     ]
    }
   ],
   "source": [
    "t = [pd.DataFrame()]*6 # 创建一个包含6个空DataFrame的列表\n",
    "for i in range(6):\n",
    "    t[i] = pd.read_csv(data_fullname[i])\n",
    "    print(i,\"  \",t[i].columns)"
   ]
  },
  {
   "cell_type": "markdown",
   "metadata": {},
   "source": [
    "将6个csv读入t中,查看他们的列名。"
   ]
  },
  {
   "cell_type": "code",
   "execution_count": 4,
   "metadata": {},
   "outputs": [
    {
     "data": {
      "text/plain": [
       "{'Location', 'Location ', 'Location 1'}"
      ]
     },
     "execution_count": 4,
     "metadata": {},
     "output_type": "execute_result"
    }
   ],
   "source": [
    "a=set()\n",
    "b=set(t[0].columns)\n",
    "for i in t:\n",
    "    a = a.union(set(i.columns))\n",
    "    b = b.intersection(set(i.columns))\n",
    "a-b"
   ]
  },
  {
   "cell_type": "markdown",
   "metadata": {},
   "source": [
    "发现他们的列名不统一，有Location、Location 、Location 1，所以需要对其进行重命名，统一列名为Location。"
   ]
  },
  {
   "cell_type": "code",
   "execution_count": 5,
   "metadata": {},
   "outputs": [
    {
     "data": {
      "text/plain": [
       "0         {'human_address': '{\"address\":\"LINDEN ST\",\"cit...\n",
       "1         {'human_address': '{\"address\":\"AV&amp;INTERNAT...\n",
       "2         {'human_address': '{\"address\":\"AV&amp;MACARTHU...\n",
       "3         {'human_address': '{\"address\":\"MACARTHUR BLVD\"...\n",
       "4         {'human_address': '{\"address\":\"AV&amp;DOWLING ...\n",
       "5         {'human_address': '{\"address\":\"AV&amp;INTERNAT...\n",
       "6         {'human_address': '{\"address\":\"AV&amp;PIPPIN S...\n",
       "7         {'human_address': '{\"address\":\"E 16TH ST\",\"cit...\n",
       "8         {'human_address': '{\"address\":\"ST&amp;WILLOW S...\n",
       "9         {'human_address': '{\"address\":\"86TH AV\",\"city\"...\n",
       "10        {'human_address': '{\"address\":\"AV&amp;MACARTHU...\n",
       "11        {'human_address': '{\"address\":\"MARTIN LUTHER K...\n",
       "12        {'human_address': '{\"address\":\"AV&amp;INTERNAT...\n",
       "13        {'human_address': '{\"address\":\"MACARTHUR BLVD\"...\n",
       "14        {'human_address': '{\"address\":\"AV&amp;ROYAL AN...\n",
       "15        {'human_address': '{\"address\":\"59TH ST\",\"city\"...\n",
       "16        {'human_address': '{\"address\":\"MACARTHUR BLVD\"...\n",
       "17        {'human_address': '{\"address\":\"47TH AV\",\"city\"...\n",
       "18        {'human_address': '{\"address\":\"HOWE ST\",\"city\"...\n",
       "19        {'human_address': '{\"address\":\"10TH AV\",\"city\"...\n",
       "20        {'human_address': '{\"address\":\"GRAND AV&amp;MA...\n",
       "21        {'human_address': '{\"address\":\"AV&amp;SAN CARL...\n",
       "22        {'human_address': '{\"address\":\"MOORPARK AV\",\"c...\n",
       "23        {'human_address': '{\"address\":\"AV&amp;SEMINARY...\n",
       "24        {'human_address': '{\"address\":\"AV&amp;WENTWORT...\n",
       "25        {'human_address': '{\"address\":\"MACARTHUR BLVD\"...\n",
       "26        {'human_address': '{\"address\":\"W MACARTHUR BLV...\n",
       "27        {'human_address': '{\"address\":\"39TH AV\",\"city\"...\n",
       "28        {'human_address': '{\"address\":\"83RD AV\",\"city\"...\n",
       "29        {'human_address': '{\"address\":\"BLVD&amp;PARK B...\n",
       "                                ...                        \n",
       "187450    {'human_address': '{\"address\":\"WB 62ND AV\",\"ci...\n",
       "187451    {'human_address': '{\"address\":\"WB CALIFORNIA S...\n",
       "187452    {'human_address': '{\"address\":\"WB CHESTNUT ST\"...\n",
       "187453    {'human_address': '{\"address\":\"WB MARKET ST\",\"...\n",
       "187454    {'human_address': '{\"address\":\"WB 61ST ST\",\"ci...\n",
       "187455    {'human_address': '{\"address\":\"WB B ST\",\"city\"...\n",
       "187456    {'human_address': '{\"address\":\"WB GRAND AV\",\"c...\n",
       "187457    {'human_address': '{\"address\":\"WB AV&amp;INTER...\n",
       "187458    {'human_address': '{\"address\":\"WB COLLEGE AV\",...\n",
       "187459    {'human_address': '{\"address\":\"WB PINEHAVEN RD...\n",
       "187460    {'human_address': '{\"address\":\"WB ST&amp;MARTI...\n",
       "187461    {'human_address': '{\"address\":\"WB ST&amp;MARTI...\n",
       "187462    {'human_address': '{\"address\":\"WB ST&amp;TELEG...\n",
       "187463    {'human_address': '{\"address\":\"WB 85TH AV\",\"ci...\n",
       "187464    {'human_address': '{\"address\":\"WB AV&amp;PROSP...\n",
       "187465    {'human_address': '{\"address\":\"WB BUTTERS DR\",...\n",
       "187466    {'human_address': '{\"address\":\"WB ST&amp;WEST ...\n",
       "187467    {'human_address': '{\"address\":\"WB 26TH AV\",\"ci...\n",
       "187468    {'human_address': '{\"address\":\"WB EDES AV\",\"ci...\n",
       "187469    {'human_address': '{\"address\":\"WB 61ST AV\",\"ci...\n",
       "187470    {'human_address': '{\"address\":\"WB AV&amp;THERM...\n",
       "187471    {'human_address': '{\"address\":\"WB 3RD ST\",\"cit...\n",
       "187472    {'human_address': '{\"address\":\"WB 61ST ST\",\"ci...\n",
       "187473    {'human_address': '{\"address\":\"WB ST&amp;JEFFE...\n",
       "187474    {'human_address': '{\"address\":\"WEAVER MASON ST...\n",
       "187475    {'human_address': '{\"address\":\"WHITMORE OUTLOO...\n",
       "187476    {'human_address': '{\"address\":\"WHITTLE MARTIN ...\n",
       "187477    {'human_address': '{\"address\":\"WHITTLE 80TH AV...\n",
       "187478    {'human_address': '{\"address\":\"WILDCAT W MACAR...\n",
       "187479    {'human_address': '{\"address\":\"WIRELESS GRIZZL...\n",
       "Name: Location 1, Length: 187480, dtype: object"
      ]
     },
     "execution_count": 5,
     "metadata": {},
     "output_type": "execute_result"
    }
   ],
   "source": [
    "t[3][\"Location 1\"]"
   ]
  },
  {
   "cell_type": "code",
   "execution_count": 6,
   "metadata": {},
   "outputs": [
    {
     "data": {
      "text/plain": [
       "'{\"index1\": {\"columns1\": \"data1\"}}'"
      ]
     },
     "execution_count": 6,
     "metadata": {},
     "output_type": "execute_result"
    }
   ],
   "source": [
    "import json\n",
    "test = {\"index1\":{\"columns1\":\"data1\"}}\n",
    "json.dumps(test)"
   ]
  },
  {
   "cell_type": "markdown",
   "metadata": {},
   "source": [
    "可以看出\"Location 1\"的数据不符合json字典格式的，需要单独进行转换"
   ]
  },
  {
   "cell_type": "code",
   "execution_count": 7,
   "metadata": {},
   "outputs": [],
   "source": [
    "import re\n",
    "def Location1Convert(data):\n",
    "    return re.findall('\"address\":\"(.*?)\"',data)[0] # 使用findall将adress:\"xxx\"中内容匹配出来并返回\n",
    "for i in range(6):\n",
    "    if \"Location 1\" in t[i].columns:\n",
    "        t[i][\"Location 1\"]=t[i][\"Location 1\"].apply(Location1Convert)\n"
   ]
  },
  {
   "cell_type": "code",
   "execution_count": 8,
   "metadata": {},
   "outputs": [
    {
     "data": {
      "text/plain": [
       "0                    LINDEN ST\n",
       "1    AV&amp;INTERNATIONAL BLVD\n",
       "2        AV&amp;MACARTHUR BLVD\n",
       "3               MACARTHUR BLVD\n",
       "4            AV&amp;DOWLING ST\n",
       "Name: Location 1, dtype: object"
      ]
     },
     "execution_count": 8,
     "metadata": {},
     "output_type": "execute_result"
    }
   ],
   "source": [
    "t[3][\"Location 1\"].head()"
   ]
  },
  {
   "cell_type": "markdown",
   "metadata": {},
   "source": [
    "可以看到Location 1 中的数据已经被转换为字符串了，接下来将\"Location 1\"、\"Location \"，统一命名为\"Location\""
   ]
  },
  {
   "cell_type": "code",
   "execution_count": 9,
   "metadata": {},
   "outputs": [
    {
     "name": "stdout",
     "output_type": "stream",
     "text": [
      "Index(['Agency', 'Create Time', 'Location', 'Area Id', 'Beat', 'Priority',\n",
      "       'Incident Type Id', 'Incident Type Description', 'Event Number',\n",
      "       'Closed Time'],\n",
      "      dtype='object')\n",
      "Index(['Agency', 'Create Time', 'Area Id', 'Beat', 'Priority',\n",
      "       'Incident Type Id', 'Incident Type Description', 'Event Number',\n",
      "       'Closed Time', 'Location'],\n",
      "      dtype='object')\n",
      "Index(['Agency', 'Create Time', 'Location', 'Area Id', 'Beat', 'Priority',\n",
      "       'Incident Type Id', 'Incident Type Description', 'Event Number',\n",
      "       'Closed Time'],\n",
      "      dtype='object')\n",
      "Index(['Agency', 'Create Time', 'Area Id', 'Beat', 'Priority',\n",
      "       'Incident Type Id', 'Incident Type Description', 'Event Number',\n",
      "       'Closed Time', 'Location'],\n",
      "      dtype='object')\n",
      "Index(['Agency', 'Create Time', 'Location', 'Area Id', 'Beat', 'Priority',\n",
      "       'Incident Type Id', 'Incident Type Description', 'Event Number',\n",
      "       'Closed Time'],\n",
      "      dtype='object')\n",
      "Index(['Agency', 'Create Time', 'Location', 'Area Id', 'Beat', 'Priority',\n",
      "       'Incident Type Id', 'Incident Type Description', 'Event Number',\n",
      "       'Closed Time'],\n",
      "      dtype='object')\n"
     ]
    }
   ],
   "source": [
    "for i in range(6):\n",
    "    t[i].rename({\"Location 1\": \"Location\", \"Location \": \"Location\"}, axis='columns', inplace=True)\n",
    "    print(t[i].columns)"
   ]
  },
  {
   "cell_type": "code",
   "execution_count": 10,
   "metadata": {},
   "outputs": [],
   "source": [
    "import numpy as np\n",
    "data = pd.concat(t, ignore_index=True, sort=False) # 将6个数据集进行合并\n",
    "def cleanLocation(data):\n",
    "    if data.strip(): # 有可能Location是空格或者换行，也按照NaN处理\n",
    "        return data.strip()\n",
    "    else:\n",
    "        return np.nan\n",
    "data[\"Location\"] = data[\"Location\"].apply(cleanLocation) # 对Location部分进行处理，标记NaN、去除首尾空格和空行"
   ]
  },
  {
   "cell_type": "markdown",
   "metadata": {},
   "source": [
    "\n",
    "以上完成了对数据集的清洗\n",
    "\n",
    "## 数据摘要\n",
    "\n",
    "### 标称属性\n"
   ]
  },
  {
   "cell_type": "code",
   "execution_count": 11,
   "metadata": {},
   "outputs": [
    {
     "name": "stdout",
     "output_type": "stream",
     "text": [
      "Agency均为op，not interesting，所以标称属性为以下几种\n",
      "['Area Id', 'Beat', 'Priority', 'Incident Type Id', 'Incident Type Description', 'Event Number', 'Location']\n"
     ]
    }
   ],
   "source": [
    "Nominal_Attributes = [\"Area Id\",\"Beat\",\"Priority\",\"Incident Type Id\",\"Incident Type Description\",\"Event Number\",\"Location\"]\n",
    "print(\"Agency均为op，not interesting，所以标称属性为以下几种\")\n",
    "print(Nominal_Attributes)"
   ]
  },
  {
   "cell_type": "code",
   "execution_count": 12,
   "metadata": {},
   "outputs": [
    {
     "name": "stdout",
     "output_type": "stream",
     "text": [
      "1.0    290452\n",
      "2.0    236700\n",
      "P3     129054\n",
      "P1     114560\n",
      "P2      53033\n",
      "Name: Area Id, dtype: int64 \n",
      "\n",
      "04X    43626\n",
      "08X    38097\n",
      "30Y    30880\n",
      "26Y    30377\n",
      "30X    29881\n",
      "Name: Beat, dtype: int64 \n",
      "\n",
      "2.0    814818\n",
      "1.0    231542\n",
      "0.0        24\n",
      "Name: Priority, dtype: int64 \n",
      "\n",
      "933R     98497\n",
      "SECCK    70965\n",
      "415      66720\n",
      "911H     54935\n",
      "10851    47958\n",
      "Name: Incident Type Id, dtype: int64 \n",
      "\n",
      "ALARM-RINGER            98497\n",
      "SECURITY CHECK          70965\n",
      "911 HANG-UP             54935\n",
      "STOLEN VEHICLE          47958\n",
      "DISTURBING THE PEACE    38257\n",
      "Name: Incident Type Description, dtype: int64 \n",
      "\n",
      "LOP130204000365    1\n",
      "LOP120729000843    1\n",
      "LOP120301001046    1\n",
      "LOP151004000313    1\n",
      "LOP160121000792    1\n",
      "Name: Event Number, dtype: int64 \n",
      "\n",
      "INTERNATIONAL BLVD       20735\n",
      "MACARTHUR BLVD           17196\n",
      "BROADWAY                 12214\n",
      "AV&INTERNATIONAL BLVD    11407\n",
      "FOOTHILL BLVD             9669\n",
      "Name: Location, dtype: int64 \n",
      "\n"
     ]
    }
   ],
   "source": [
    "for attribute in Nominal_Attributes:\n",
    "    print(data[attribute].value_counts().head(),\"\\n\")"
   ]
  },
  {
   "cell_type": "markdown",
   "metadata": {},
   "source": [
    "### 数值属性\n",
    "\n",
    "无\n",
    "\n",
    "## 数据缺失的处理\n",
    "### 缺失值分析"
   ]
  },
  {
   "cell_type": "code",
   "execution_count": 13,
   "metadata": {},
   "outputs": [
    {
     "data": {
      "text/plain": [
       "Agency                            4\n",
       "Create Time                       4\n",
       "Location                        300\n",
       "Area Id                      182365\n",
       "Beat                           5805\n",
       "Priority                          4\n",
       "Incident Type Id                  4\n",
       "Incident Type Description       392\n",
       "Event Number                      4\n",
       "Closed Time                      29\n",
       "dtype: int64"
      ]
     },
     "execution_count": 13,
     "metadata": {},
     "output_type": "execute_result"
    }
   ],
   "source": [
    "data.isna().sum() # 查看各属性缺失值个数"
   ]
  },
  {
   "cell_type": "code",
   "execution_count": 170,
   "metadata": {},
   "outputs": [
    {
     "name": "stdout",
     "output_type": "stream",
     "text": [
      "\n",
      "1_1 Area Id_Na <==> Beat\n",
      "04X    0.041400\n",
      "08X    0.035470\n",
      "30X    0.029983\n",
      "30Y    0.029579\n",
      "23X    0.029473\n",
      "Name: Beat, dtype: float64 \n",
      "\n",
      "1_2 Area Id_Na <==> Priority\n",
      "2.0    0.776827\n",
      "1.0    0.223173\n",
      "Name: Priority, dtype: float64 \n",
      "\n",
      "1_3 Area Id_Na <==> Incident Type Id\n",
      "933R     0.092854\n",
      "SECCK    0.074292\n",
      "415      0.062475\n",
      "911H     0.050619\n",
      "10851    0.046265\n",
      "Name: Incident Type Id, dtype: float64 \n",
      "\n",
      "1_4 Area Id_Na <==> Incident Type Description\n",
      "ALARM-RINGER      0.092928\n",
      "SECURITY CHECK    0.074351\n",
      "911 HANG-UP       0.050660\n",
      "STOLEN VEHICLE    0.046302\n",
      "MENTALLY ILL      0.036473\n",
      "Name: Incident Type Description, dtype: float64 \n",
      "\n",
      "1_5 Area Id_Na <==> Event Number\n",
      "LOP140627000528    0.000005\n",
      "LOP141021001022    0.000005\n",
      "LOP140621000444    0.000005\n",
      "LOP111026000591    0.000005\n",
      "LOP141011000373    0.000005\n",
      "Name: Event Number, dtype: float64 \n",
      "\n",
      "1_6 Area Id_Na <==> Location\n",
      "INTERNATIONAL BLVD           0.019281\n",
      "AV&amp;INTERNATIONAL BLVD    0.016846\n",
      "MACARTHUR BLVD               0.014432\n",
      "BROADWAY                     0.010296\n",
      "FOOTHILL BLVD                0.009183\n",
      "Name: Location, dtype: float64 \n",
      "\n",
      "\n",
      "2_1 Beat_Na <==> Area Id\n",
      "1.0    0.269747\n",
      "2.0    0.224832\n",
      "P1     0.216314\n",
      "P3     0.152297\n",
      "PCW    0.111513\n",
      "Name: Area Id, dtype: float64 \n",
      "\n",
      "2_2 Beat_Na <==> Priority\n",
      "2.0    0.879504\n",
      "1.0    0.120496\n",
      "Name: Priority, dtype: float64 \n",
      "\n",
      "2_3 Beat_Na <==> Incident Type Id\n",
      "SECCK    0.233063\n",
      "900      0.111877\n",
      "10851    0.066195\n",
      "415      0.062748\n",
      "911H     0.040338\n",
      "Name: Incident Type Id, dtype: float64 \n",
      "\n",
      "2_4 Beat_Na <==> Incident Type Description\n",
      "SECURITY CHECK          0.233103\n",
      "MISCELLANEOUS/UNKNOW    0.111897\n",
      "STOLEN VEHICLE          0.066207\n",
      "DISTURBING THE PEACE    0.057586\n",
      "911 HANG-UP             0.040345\n",
      "Name: Incident Type Description, dtype: float64 \n",
      "\n",
      "2_5 Beat_Na <==> Event Number\n",
      "LOP120608001048    0.000172\n",
      "LOP160120001126    0.000172\n",
      "LOP120725000890    0.000172\n",
      "LOP151030000444    0.000172\n",
      "LOP130826000809    0.000172\n",
      "Name: Event Number, dtype: float64 \n",
      "\n",
      "2_6 Beat_Na <==> Location\n",
      "73RD AVE         0.034271\n",
      "7TH STREET       0.013889\n",
      "98TH AVE         0.012085\n",
      "19TH AVE         0.009740\n",
      "FRUITVALE AVE    0.009380\n",
      "Name: Location, dtype: float64 \n",
      "\n",
      "\n",
      "3_1 Priority_Na <==> Area Id\n",
      "Series([], Name: Area Id, dtype: float64) \n",
      "\n",
      "3_2 Priority_Na <==> Beat\n",
      "Series([], Name: Beat, dtype: float64) \n",
      "\n",
      "3_3 Priority_Na <==> Incident Type Id\n",
      "Series([], Name: Incident Type Id, dtype: float64) \n",
      "\n",
      "3_4 Priority_Na <==> Incident Type Description\n",
      "Series([], Name: Incident Type Description, dtype: float64) \n",
      "\n",
      "3_5 Priority_Na <==> Event Number\n",
      "Series([], Name: Event Number, dtype: float64) \n",
      "\n",
      "3_6 Priority_Na <==> Location\n",
      "Series([], Name: Location, dtype: float64) \n",
      "\n",
      "\n",
      "4_1 Incident Type Id_Na <==> Area Id\n",
      "Series([], Name: Area Id, dtype: float64) \n",
      "\n",
      "4_2 Incident Type Id_Na <==> Beat\n",
      "Series([], Name: Beat, dtype: float64) \n",
      "\n",
      "4_3 Incident Type Id_Na <==> Priority\n",
      "Series([], Name: Priority, dtype: float64) \n",
      "\n",
      "4_4 Incident Type Id_Na <==> Incident Type Description\n",
      "Series([], Name: Incident Type Description, dtype: float64) \n",
      "\n",
      "4_5 Incident Type Id_Na <==> Event Number\n",
      "Series([], Name: Event Number, dtype: float64) \n",
      "\n",
      "4_6 Incident Type Id_Na <==> Location\n",
      "Series([], Name: Location, dtype: float64) \n",
      "\n",
      "\n",
      "5_1 Incident Type Description_Na <==> Area Id\n",
      "PCW    0.872428\n",
      "P3     0.065844\n",
      "P1     0.053498\n",
      "P2     0.008230\n",
      "Name: Area Id, dtype: float64 \n",
      "\n",
      "5_2 Incident Type Description_Na <==> Beat\n",
      "35Y    0.661499\n",
      "19X    0.023256\n",
      "04X    0.018088\n",
      "05X    0.018088\n",
      "24Y    0.018088\n",
      "Name: Beat, dtype: float64 \n",
      "\n",
      "5_3 Incident Type Description_Na <==> Priority\n",
      "1.0    0.518041\n",
      "2.0    0.481959\n",
      "Name: Priority, dtype: float64 \n",
      "\n",
      "5_4 Incident Type Description_Na <==> Incident Type Id\n",
      "JGP    1.0\n",
      "Name: Incident Type Id, dtype: float64 \n",
      "\n",
      "5_5 Incident Type Description_Na <==> Event Number\n",
      "LOP150917000757    0.002577\n",
      "LOP150914000432    0.002577\n",
      "LOP151005000018    0.002577\n",
      "LOP151101000793    0.002577\n",
      "LOP150829000339    0.002577\n",
      "Name: Event Number, dtype: float64 \n",
      "\n",
      "5_6 Incident Type Description_Na <==> Location\n",
      "FAIRMONT DR         0.755155\n",
      "98TH FAIRMONT DR    0.012887\n",
      "E FAIRMONT DR       0.010309\n",
      "73RD FAIRMONT DR    0.007732\n",
      "34TH FAIRMONT DR    0.007732\n",
      "Name: Location, dtype: float64 \n",
      "\n",
      "\n",
      "6_1 Event Number_Na <==> Area Id\n",
      "Series([], Name: Area Id, dtype: float64) \n",
      "\n",
      "6_2 Event Number_Na <==> Beat\n",
      "Series([], Name: Beat, dtype: float64) \n",
      "\n",
      "6_3 Event Number_Na <==> Priority\n",
      "Series([], Name: Priority, dtype: float64) \n",
      "\n",
      "6_4 Event Number_Na <==> Incident Type Id\n",
      "Series([], Name: Incident Type Id, dtype: float64) \n",
      "\n",
      "6_5 Event Number_Na <==> Incident Type Description\n",
      "Series([], Name: Incident Type Description, dtype: float64) \n",
      "\n",
      "6_6 Event Number_Na <==> Location\n",
      "Series([], Name: Location, dtype: float64) \n",
      "\n",
      "\n",
      "7_1 Location_Na <==> Area Id\n",
      "1.0    0.314894\n",
      "2.0    0.310638\n",
      "P1     0.140426\n",
      "P3     0.131915\n",
      "PCW    0.076596\n",
      "Name: Area Id, dtype: float64 \n",
      "\n",
      "7_2 Location_Na <==> Beat\n",
      "33X    0.076923\n",
      "32Y    0.051282\n",
      "24X    0.051282\n",
      "21Y    0.051282\n",
      "31X    0.051282\n",
      "Name: Beat, dtype: float64 \n",
      "\n",
      "7_3 Location_Na <==> Priority\n",
      "2.0    0.739865\n",
      "1.0    0.260135\n",
      "Name: Priority, dtype: float64 \n",
      "\n",
      "7_4 Location_Na <==> Incident Type Id\n",
      "SECCK    0.125000\n",
      "20002    0.070946\n",
      "900      0.067568\n",
      "HAZ      0.054054\n",
      "901A     0.050676\n",
      "Name: Incident Type Id, dtype: float64 \n",
      "\n",
      "7_5 Location_Na <==> Incident Type Description\n",
      "SECURITY CHECK          0.125000\n",
      "HIT & RUN (PROPERTY     0.070946\n",
      "MISCELLANEOUS/UNKNOW    0.067568\n",
      "HAZARDOUS SITUATION/    0.054054\n",
      "VEHICLE COLLISION-PE    0.050676\n",
      "Name: Incident Type Description, dtype: float64 \n",
      "\n",
      "7_6 Location_Na <==> Event Number\n",
      "LOP110120001111    0.003378\n",
      "LOP120320000159    0.003378\n",
      "LOP130122000741    0.003378\n",
      "LOP120718000322    0.003378\n",
      "LOP160508000458    0.003378\n",
      "Name: Event Number, dtype: float64 \n",
      "\n"
     ]
    }
   ],
   "source": [
    "def get_naDataFrame(na_attribute): # 获取是指定属性全部是na值的数据帧\n",
    "    return data[data[na_attribute].isna()]\n",
    "i=0\n",
    "for attribute1 in Nominal_Attributes:\n",
    "    print()\n",
    "    i+=1\n",
    "    j=0\n",
    "    for attribute2 in Nominal_Attributes:\n",
    "        if attribute1 != attribute2:\n",
    "            j+=1\n",
    "            print(\"{0}_{1} {2}_Na <==> {3}\".format(i,j,attribute1,attribute2))\n",
    "            print(get_naDataFrame(attribute1)[attribute2].value_counts(normalize=True).head(),\"\\n\")\n",
    "    "
   ]
  },
  {
   "cell_type": "markdown",
   "metadata": {},
   "source": [
    "### 缺失值处理"
   ]
  },
  {
   "cell_type": "markdown",
   "metadata": {},
   "source": [
    "1. 将缺失部分剔除 "
   ]
  },
  {
   "cell_type": "code",
   "execution_count": 172,
   "metadata": {},
   "outputs": [
    {
     "data": {
      "text/plain": [
       "Agency                       0\n",
       "Create Time                  0\n",
       "Location                     0\n",
       "Area Id                      0\n",
       "Beat                         0\n",
       "Priority                     0\n",
       "Incident Type Id             0\n",
       "Incident Type Description    0\n",
       "Event Number                 0\n",
       "Closed Time                  0\n",
       "dtype: int64"
      ]
     },
     "execution_count": 172,
     "metadata": {},
     "output_type": "execute_result"
    }
   ],
   "source": [
    "data_dropna = data.dropna() # 将缺失部分剔除\n",
    "data_dropna.isna().sum() "
   ]
  },
  {
   "cell_type": "markdown",
   "metadata": {},
   "source": [
    "2. 用最高频率值来填补缺失值"
   ]
  },
  {
   "cell_type": "code",
   "execution_count": 186,
   "metadata": {},
   "outputs": [
    {
     "name": "stdout",
     "output_type": "stream",
     "text": [
      "Agency 's na filled with  OP\n",
      "Create Time 's na filled with  2013-01-29T09:16:31.000\n",
      "Location 's na filled with  INTERNATIONAL BLVD\n",
      "Area Id 's na filled with  1.0\n",
      "Beat 's na filled with  04X\n",
      "Priority 's na filled with  2.0\n",
      "Incident Type Id 's na filled with  933R\n",
      "Incident Type Description 's na filled with  ALARM-RINGER\n",
      "Event Number 's na filled with  LOP140627000528\n",
      "Closed Time 's na filled with  2013-09-01T17:23:50.000\n"
     ]
    },
    {
     "data": {
      "text/plain": [
       "Agency                       0\n",
       "Create Time                  0\n",
       "Location                     0\n",
       "Area Id                      0\n",
       "Beat                         0\n",
       "Priority                     0\n",
       "Incident Type Id             0\n",
       "Incident Type Description    0\n",
       "Event Number                 0\n",
       "Closed Time                  0\n",
       "dtype: int64"
      ]
     },
     "execution_count": 186,
     "metadata": {},
     "output_type": "execute_result"
    }
   ],
   "source": [
    "data_frequency = data.copy()\n",
    "for attribute in data.columns:\n",
    "    filler = data[attribute].value_counts().index[0] # 对每个属性，找到分类排名第一的索引，作为filler\n",
    "    data_frequency[attribute].fillna(filler,inplace=True)\n",
    "    print(attribute,\"'s na filled with \",filler)\n",
    "\n",
    "data_frequency.isna().sum()"
   ]
  },
  {
   "cell_type": "markdown",
   "metadata": {},
   "source": [
    "3. 通过属性的相关关系来填补缺失值\n",
    "\n",
    "以\"Area Id\"为例：\n",
    "结合之前的结果，其缺失与Priority的相关性很高\n",
    "\n",
    "决策树不会--，这部分跳过"
   ]
  },
  {
   "cell_type": "code",
   "execution_count": 200,
   "metadata": {},
   "outputs": [
    {
     "data": {
      "image/png": "[encoded data removed]",
      "text/plain": [
       "<Figure size 432x288 with 1 Axes>"
      ]
     },
     "metadata": {
      "needs_background": "light"
     },
     "output_type": "display_data"
    }
   ],
   "source": [
    "\n",
    "from itertools import product\n",
    "\n",
    "import numpy as np\n",
    "import matplotlib.pyplot as plt\n",
    "# %matplotlib inline\n",
    "\n",
    "from sklearn import datasets\n",
    "from sklearn.tree import DecisionTreeClassifier\n",
    "\n",
    "\n",
    "# 仍然使用自带的iris数据\n",
    "iris = datasets.load_iris()\n",
    "X = iris.data[:, [0, 2]]\n",
    "y = iris.target\n",
    "\n",
    "# 训练模型，限制树的最大深度4\n",
    "clf = DecisionTreeClassifier(max_depth=4)\n",
    "#拟合模型\n",
    "clf.fit(X, y)\n",
    "\n",
    "\n",
    "# 画图\n",
    "x_min, x_max = X[:, 0].min() - 1, X[:, 0].max() + 1\n",
    "y_min, y_max = X[:, 1].min() - 1, X[:, 1].max() + 1\n",
    "xx, yy = np.meshgrid(np.arange(x_min, x_max, 0.1),\n",
    "                     np.arange(y_min, y_max, 0.1))\n",
    "\n",
    "Z = clf.predict(np.c_[xx.ravel(), yy.ravel()])\n",
    "Z = Z.reshape(xx.shape)\n",
    "\n",
    "plt.contourf(xx, yy, Z, alpha=0.4)\n",
    "plt.scatter(X[:, 0], X[:, 1], c=y, alpha=0.8)\n",
    "plt.show()"
   ]
  },
  {
   "cell_type": "markdown",
   "metadata": {},
   "source": [
    "### 可视化地对比新旧数据集\n",
    "仅以\"Area Id\"属性为例"
   ]
  },
  {
   "cell_type": "code",
   "execution_count": 214,
   "metadata": {},
   "outputs": [
    {
     "data": {
      "text/plain": [
       "<matplotlib.axes._subplots.AxesSubplot at 0x18cb22ac828>"
      ]
     },
     "execution_count": 214,
     "metadata": {},
     "output_type": "execute_result"
    },
    {
     "data": {
      "image/png": "[encoded data removed]",
      "text/plain": [
       "<Figure size 1440x1296 with 3 Axes>"
      ]
     },
     "metadata": {
      "needs_background": "light"
     },
     "output_type": "display_data"
    }
   ],
   "source": [
    "import seaborn as sns\n",
    "from scipy import stats\n",
    "import matplotlib.pyplot as plt\n",
    "fig = plt.figure(figsize=(20,18)) # 建立一个20*18的画布\n",
    "ax1 = fig.add_subplot(3,1,1)      \n",
    "data[\"Area Id\"].value_counts(dropna=False).plot(kind='bar', title=\"Pure\") # 注意，这里需要加上 dropna=False 否则value_counts默认是不会算上na值的\n",
    "\n",
    "ax2 = fig.add_subplot(3,1,2)      \n",
    "data_dropna[\"Area Id\"].value_counts().plot(kind='bar', title=\"Drop Na\")\n",
    "\n",
    "ax3 = fig.add_subplot(3,1,3)      \n",
    "data_frequency[\"Area Id\"].value_counts().plot(kind='bar', title=\"Fill by Frequency\")"
   ]
  }
 ],
 "metadata": {
  "kernelspec": {
   "display_name": "Python 3",
   "language": "python",
   "name": "python3"
  },
  "language_info": {
   "codemirror_mode": {
    "name": "ipython",
    "version": 3
   },
   "file_extension": ".py",
   "mimetype": "text/x-python",
   "name": "python",
   "nbconvert_exporter": "python",
   "pygments_lexer": "ipython3",
   "version": "3.7.1"
  }
 },
 "nbformat": 4,
 "nbformat_minor": 2
}
